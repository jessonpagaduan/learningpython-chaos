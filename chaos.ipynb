{
 "cells": [
  {
   "cell_type": "code",
   "execution_count": 46,
   "metadata": {},
   "outputs": [],
   "source": [
    "import matplotlib.pyplot as plt\n",
    "%matplotlib inline\n",
    "\n",
    "class Chaos:\n",
    "    '''\n",
    "    Simulates a chaos using a logistic difference equation: x[t+1] = r*x[t] * (1-x[t])\n",
    "    where x[0] ϵ [0,1], r ϵ [0,4]\n",
    "    and generates a plot of simulated chaos.\n",
    "    '''\n",
    "    \n",
    "    def __init__(self, x0, r):\n",
    "        '''\n",
    "        Initialize state x0 and parameter r\n",
    "        '''\n",
    "        self.x = x0\n",
    "        self.r = r\n",
    "        \n",
    "    def update(self):\n",
    "        '''\n",
    "        Update x according to LDE\n",
    "        '''\n",
    "        self.x = self.r * self.x * (1 - self.x)\n",
    "    \n",
    "    def generate_sequence(self, n):\n",
    "        '''\n",
    "        Generates a sequence of n iterations\n",
    "        '''\n",
    "        sequence = []\n",
    "        for i in range(n):\n",
    "            sequence.append(self.x)\n",
    "            self.update()\n",
    "        return sequence\n",
    "    \n",
    "    def plot_sequence(self, n):\n",
    "        '''\n",
    "        Plots sequence of chaos\n",
    "        '''\n",
    "        fig, ax = plt.subplots()\n",
    "        ax.set_xlabel('$t$', fontsize = 14)\n",
    "        ax.set_ylabel('$x_t$', fontsize = 14)\n",
    "        ax.plot(range(n), self.generate_sequence(n), 'bo-', alpha=0.5, lw=2, label='$x_t$')\n",
    "        plt.show()"
   ]
  }
 ],
 "metadata": {
  "kernelspec": {
   "display_name": "Python 3",
   "language": "python",
   "name": "python3"
  },
  "language_info": {
   "codemirror_mode": {
    "name": "ipython",
    "version": 3
   },
   "file_extension": ".py",
   "mimetype": "text/x-python",
   "name": "python",
   "nbconvert_exporter": "python",
   "pygments_lexer": "ipython3",
   "version": "3.7.6"
  }
 },
 "nbformat": 4,
 "nbformat_minor": 4
}
